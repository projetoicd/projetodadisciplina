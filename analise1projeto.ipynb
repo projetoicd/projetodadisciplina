{
 "cells": [
  {
   "cell_type": "code",
   "execution_count": 6,
   "metadata": {},
   "outputs": [
    {
     "data": {
      "text/html": [
       "<div>\n",
       "<style scoped>\n",
       "    .dataframe tbody tr th:only-of-type {\n",
       "        vertical-align: middle;\n",
       "    }\n",
       "\n",
       "    .dataframe tbody tr th {\n",
       "        vertical-align: top;\n",
       "    }\n",
       "\n",
       "    .dataframe thead th {\n",
       "        text-align: right;\n",
       "    }\n",
       "</style>\n",
       "<table border=\"1\" class=\"dataframe\">\n",
       "  <thead>\n",
       "    <tr style=\"text-align: right;\">\n",
       "      <th></th>\n",
       "      <th>TIMES</th>\n",
       "      <th>TÍTULOS (2010-2019)</th>\n",
       "      <th>P/LIBERTADORES (2009-2019)</th>\n",
       "      <th>P/SÉRIE A (2010-2019)</th>\n",
       "    </tr>\n",
       "  </thead>\n",
       "  <tbody>\n",
       "    <tr>\n",
       "      <th>0</th>\n",
       "      <td>ABC DE NATAL</td>\n",
       "      <td>7</td>\n",
       "      <td>0</td>\n",
       "      <td>0</td>\n",
       "    </tr>\n",
       "    <tr>\n",
       "      <th>1</th>\n",
       "      <td>AMÉRICA DE NATAL</td>\n",
       "      <td>4</td>\n",
       "      <td>0</td>\n",
       "      <td>0</td>\n",
       "    </tr>\n",
       "    <tr>\n",
       "      <th>2</th>\n",
       "      <td>BOTAFOGO PB</td>\n",
       "      <td>7</td>\n",
       "      <td>0</td>\n",
       "      <td>0</td>\n",
       "    </tr>\n",
       "    <tr>\n",
       "      <th>3</th>\n",
       "      <td>BAHIA</td>\n",
       "      <td>6</td>\n",
       "      <td>0</td>\n",
       "      <td>7</td>\n",
       "    </tr>\n",
       "    <tr>\n",
       "      <th>4</th>\n",
       "      <td>CEARÁ</td>\n",
       "      <td>6</td>\n",
       "      <td>0</td>\n",
       "      <td>4</td>\n",
       "    </tr>\n",
       "    <tr>\n",
       "      <th>5</th>\n",
       "      <td>CONFIANÇA</td>\n",
       "      <td>4</td>\n",
       "      <td>0</td>\n",
       "      <td>0</td>\n",
       "    </tr>\n",
       "    <tr>\n",
       "      <th>6</th>\n",
       "      <td>FLAMENGO DO PIAUÍ</td>\n",
       "      <td>0</td>\n",
       "      <td>0</td>\n",
       "      <td>0</td>\n",
       "    </tr>\n",
       "    <tr>\n",
       "      <th>7</th>\n",
       "      <td>FORTALEZA</td>\n",
       "      <td>6</td>\n",
       "      <td>0</td>\n",
       "      <td>1</td>\n",
       "    </tr>\n",
       "    <tr>\n",
       "      <th>8</th>\n",
       "      <td>NÁUTICO</td>\n",
       "      <td>3</td>\n",
       "      <td>0</td>\n",
       "      <td>2</td>\n",
       "    </tr>\n",
       "    <tr>\n",
       "      <th>9</th>\n",
       "      <td>SAMPAIO CORREA</td>\n",
       "      <td>7</td>\n",
       "      <td>0</td>\n",
       "      <td>0</td>\n",
       "    </tr>\n",
       "    <tr>\n",
       "      <th>10</th>\n",
       "      <td>SANTA CRUZ</td>\n",
       "      <td>7</td>\n",
       "      <td>0</td>\n",
       "      <td>1</td>\n",
       "    </tr>\n",
       "    <tr>\n",
       "      <th>11</th>\n",
       "      <td>SPORT</td>\n",
       "      <td>5</td>\n",
       "      <td>1</td>\n",
       "      <td>6</td>\n",
       "    </tr>\n",
       "    <tr>\n",
       "      <th>12</th>\n",
       "      <td>TREZE PB</td>\n",
       "      <td>3</td>\n",
       "      <td>0</td>\n",
       "      <td>0</td>\n",
       "    </tr>\n",
       "    <tr>\n",
       "      <th>13</th>\n",
       "      <td>VITÓRIA</td>\n",
       "      <td>4</td>\n",
       "      <td>0</td>\n",
       "      <td>5</td>\n",
       "    </tr>\n",
       "  </tbody>\n",
       "</table>\n",
       "</div>"
      ],
      "text/plain": [
       "                TIMES  TÍTULOS (2010-2019)  P/LIBERTADORES (2009-2019)  \\\n",
       "0        ABC DE NATAL                    7                           0   \n",
       "1    AMÉRICA DE NATAL                    4                           0   \n",
       "2         BOTAFOGO PB                    7                           0   \n",
       "3               BAHIA                    6                           0   \n",
       "4               CEARÁ                    6                           0   \n",
       "5           CONFIANÇA                    4                           0   \n",
       "6   FLAMENGO DO PIAUÍ                    0                           0   \n",
       "7           FORTALEZA                    6                           0   \n",
       "8             NÁUTICO                    3                           0   \n",
       "9      SAMPAIO CORREA                    7                           0   \n",
       "10         SANTA CRUZ                    7                           0   \n",
       "11              SPORT                    5                           1   \n",
       "12           TREZE PB                    3                           0   \n",
       "13            VITÓRIA                    4                           0   \n",
       "\n",
       "    P/SÉRIE A (2010-2019)  \n",
       "0                       0  \n",
       "1                       0  \n",
       "2                       0  \n",
       "3                       7  \n",
       "4                       4  \n",
       "5                       0  \n",
       "6                       0  \n",
       "7                       1  \n",
       "8                       2  \n",
       "9                       0  \n",
       "10                      1  \n",
       "11                      6  \n",
       "12                      0  \n",
       "13                      5  "
      ]
     },
     "execution_count": 6,
     "metadata": {},
     "output_type": "execute_result"
    }
   ],
   "source": [
    "import pandas as pd\n",
    "times = pd.read_csv(\"dadosnordestinos.csv\")\n",
    "times"
   ]
  },
  {
   "cell_type": "code",
   "execution_count": 11,
   "metadata": {},
   "outputs": [
    {
     "name": "stdout",
     "output_type": "stream",
     "text": [
      "A Média de Títulos:  4.928571428571429\n",
      "A Moda dos Títulos:  0    7\n",
      "dtype: int64\n",
      "A Mediana dos Títulos:  5.5\n",
      "A Variância dos Títulos:  4.2252747252747245\n",
      "O Desvio Padrão dos Títulos:  2.0555473055307494\n"
     ]
    },
    {
     "data": {
      "text/plain": [
       "<AxesSubplot:>"
      ]
     },
     "execution_count": 11,
     "metadata": {},
     "output_type": "execute_result"
    },
    {
     "data": {
      "image/png": "[encoded data removed]",
      "text/plain": [
       "<Figure size 432x288 with 1 Axes>"
      ]
     },
     "metadata": {
      "needs_background": "light"
     },
     "output_type": "display_data"
    }
   ],
   "source": [
    "Mediat = times[\"TÍTULOS (2010-2019)\"].mean()\n",
    "Modat = times[\"TÍTULOS (2010-2019)\"].mode()\n",
    "Medianat = times[\"TÍTULOS (2010-2019)\"].median()\n",
    "Varianciat = times[\"TÍTULOS (2010-2019)\"].var()\n",
    "Dispersaot = times[\"TÍTULOS (2010-2019)\"].var()**0.5\n",
    "print (\"A Média de Títulos: \", Mediat)\n",
    "print (\"A Moda dos Títulos: \", Modat)\n",
    "print (\"A Mediana dos Títulos: \", Medianat)\n",
    "print (\"A Variância dos Títulos: \", Varianciat)\n",
    "print (\"O Desvio Padrão dos Títulos: \", Dispersaot)\n",
    "\n",
    "times.boxplot(column=\"TÍTULOS (2010-2019)\")"
   ]
  },
  {
   "cell_type": "code",
   "execution_count": 13,
   "metadata": {},
   "outputs": [
    {
     "name": "stdout",
     "output_type": "stream",
     "text": [
      "A Média de participação na libertadores:  0.07142857142857142\n",
      "A Moda de participação na libertadores:  0    0\n",
      "dtype: int64\n",
      "A Mediana de participação na libertadores:  0.0\n",
      "A Variância de participação na libertadores:  0.07142857142857142\n",
      "O Desvio Padrão de participação na libertadores:  0.2672612419124244\n"
     ]
    },
    {
     "data": {
      "text/plain": [
       "<AxesSubplot:>"
      ]
     },
     "execution_count": 13,
     "metadata": {},
     "output_type": "execute_result"
    },
    {
     "data": {
      "image/png": "[encoded data removed]",
      "text/plain": [
       "<Figure size 432x288 with 1 Axes>"
      ]
     },
     "metadata": {
      "needs_background": "light"
     },
     "output_type": "display_data"
    }
   ],
   "source": [
    "Medial = times[\"P/LIBERTADORES (2009-2019)\"].mean()\n",
    "Modal = times[\"P/LIBERTADORES (2009-2019)\"].mode()\n",
    "Medianal = times[\"P/LIBERTADORES (2009-2019)\"].median()\n",
    "Variancial = times[\"P/LIBERTADORES (2009-2019)\"].var()\n",
    "Dispersaol = times[\"P/LIBERTADORES (2009-2019)\"].var()**0.5\n",
    "print (\"A Média de participação na libertadores: \", Medial)\n",
    "print (\"A Moda de participação na libertadores: \", Modal)\n",
    "print (\"A Mediana de participação na libertadores: \", Medianal)\n",
    "print (\"A Variância de participação na libertadores: \", Variancial)\n",
    "print (\"O Desvio Padrão de participação na libertadores: \", Dispersaol)\n",
    "\n",
    "times.boxplot(column=\"P/LIBERTADORES (2009-2019)\")"
   ]
  },
  {
   "cell_type": "code",
   "execution_count": 14,
   "metadata": {},
   "outputs": [
    {
     "name": "stdout",
     "output_type": "stream",
     "text": [
      "A Média de participação na Série A:  1.8571428571428572\n",
      "A Moda de participação na Série A:  0    0\n",
      "dtype: int64\n",
      "A Mediana de participação Série A:  0.5\n",
      "A Variância de participação na Série A:  6.439560439560439\n",
      "O Desvio Padrão de participação na Série A:  2.537628901072897\n"
     ]
    },
    {
     "data": {
      "text/plain": [
       "<AxesSubplot:>"
      ]
     },
     "execution_count": 14,
     "metadata": {},
     "output_type": "execute_result"
    },
    {
     "data": {
      "image/png": "[encoded data removed]",
      "text/plain": [
       "<Figure size 432x288 with 1 Axes>"
      ]
     },
     "metadata": {
      "needs_background": "light"
     },
     "output_type": "display_data"
    }
   ],
   "source": [
    "Mediaa = times[\"P/SÉRIE A (2010-2019)\"].mean()\n",
    "Modaa = times[\"P/SÉRIE A (2010-2019)\"].mode()\n",
    "Medianaa = times[\"P/SÉRIE A (2010-2019)\"].median()\n",
    "Varianciaa = times[\"P/SÉRIE A (2010-2019)\"].var()\n",
    "Dispersaoa = times[\"P/SÉRIE A (2010-2019)\"].var()**0.5\n",
    "print (\"A Média de participação na Série A: \", Mediaa)\n",
    "print (\"A Moda de participação na Série A: \", Modaa)\n",
    "print (\"A Mediana de participação Série A: \", Medianaa)\n",
    "print (\"A Variância de participação na Série A: \", Varianciaa)\n",
    "print (\"O Desvio Padrão de participação na Série A: \", Dispersaoa)\n",
    "\n",
    "times.boxplot(column=\"P/SÉRIE A (2010-2019)\")"
   ]
  }
 ],
 "metadata": {
  "kernelspec": {
   "display_name": "Python 3",
   "language": "python",
   "name": "python3"
  },
  "language_info": {
   "codemirror_mode": {
    "name": "ipython",
    "version": 3
   },
   "file_extension": ".py",
   "mimetype": "text/x-python",
   "name": "python",
   "nbconvert_exporter": "python",
   "pygments_lexer": "ipython3",
   "version": "3.6.11"
  }
 },
 "nbformat": 4,
 "nbformat_minor": 4
}
