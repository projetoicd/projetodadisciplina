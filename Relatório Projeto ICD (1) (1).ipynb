{
 "cells": [
  {
   "cell_type": "markdown",
   "metadata": {},
   "source": [
    "# ANÁLISE DE DADOS SOBRE TIMES NORDESTINOS\n",
    "\n",
    "PARTICIPANTES:\n",
    "- Kevin Leandro Gomes \n",
    "- Harley Adisson Moreira Carneiro\n",
    "- Ednaldo Martins da Silva Neto\n",
    "\n",
    "\n",
    "## Introdução:\n",
    "    \n",
    "O projeto foi desenvolvido com o intuito de esclarecer dúvidas sobre alguns times do nordeste, pois sempre surgem muitas incertezas sobre quantas participações em determinadas competições, quantos títulos em determinados anos e etc. Então  baseado nisso resolvemos fazer uma análise de dados o mais detalhada possível sobre quatro perguntas escolhidas para serem respondidas.\n",
    "Esse projeto tem o objetivo de ajudar pessoas a esclarecerem suas dúvidas sobre alguns aspectos do seu time do coração.\n",
    "    \n",
    "\n",
    "## Dados usados:\n",
    "\n",
    "   O Dataset do projeto foi criado para a análise de doze times do nordeste, independete da história de cada um eles foram\n",
    "analisados imparcialmente e cuidadosamente para assim conseguirmos obter os resultados o mais precisos possíveis.\n",
    "   Dentre os times que foram analisados estão. **ABC de Natal, América de Natal, Botafogo PB, Bahia, Ceará, Confiança, \n",
    "Flamengo do Piauí, Fortaleza, Náutico, Sampaio Correa, Santa Cruz, Sport, Treze PB e o Vitória.**"
   ]
  },
  {
   "cell_type": "code",
   "execution_count": 1,
   "metadata": {
    "scrolled": false
   },
   "outputs": [
    {
     "data": {
      "text/html": [
       "<div>\n",
       "<style scoped>\n",
       "    .dataframe tbody tr th:only-of-type {\n",
       "        vertical-align: middle;\n",
       "    }\n",
       "\n",
       "    .dataframe tbody tr th {\n",
       "        vertical-align: top;\n",
       "    }\n",
       "\n",
       "    .dataframe thead th {\n",
       "        text-align: right;\n",
       "    }\n",
       "</style>\n",
       "<table border=\"1\" class=\"dataframe\">\n",
       "  <thead>\n",
       "    <tr style=\"text-align: right;\">\n",
       "      <th></th>\n",
       "      <th>TIMES</th>\n",
       "      <th>TÍTULOS (2010-2019)</th>\n",
       "      <th>P/LIBERTADORES (2009-2019)</th>\n",
       "      <th>P/SÉRIE A (2010-2019)</th>\n",
       "    </tr>\n",
       "  </thead>\n",
       "  <tbody>\n",
       "    <tr>\n",
       "      <th>0</th>\n",
       "      <td>ABC DE NATAL</td>\n",
       "      <td>7</td>\n",
       "      <td>0</td>\n",
       "      <td>0</td>\n",
       "    </tr>\n",
       "    <tr>\n",
       "      <th>1</th>\n",
       "      <td>AMÉRICA DE NATAL</td>\n",
       "      <td>4</td>\n",
       "      <td>0</td>\n",
       "      <td>0</td>\n",
       "    </tr>\n",
       "    <tr>\n",
       "      <th>2</th>\n",
       "      <td>BOTAFOGO PB</td>\n",
       "      <td>7</td>\n",
       "      <td>0</td>\n",
       "      <td>0</td>\n",
       "    </tr>\n",
       "    <tr>\n",
       "      <th>3</th>\n",
       "      <td>BAHIA</td>\n",
       "      <td>6</td>\n",
       "      <td>0</td>\n",
       "      <td>7</td>\n",
       "    </tr>\n",
       "    <tr>\n",
       "      <th>4</th>\n",
       "      <td>CEARÁ</td>\n",
       "      <td>6</td>\n",
       "      <td>0</td>\n",
       "      <td>4</td>\n",
       "    </tr>\n",
       "    <tr>\n",
       "      <th>5</th>\n",
       "      <td>CONFIANÇA</td>\n",
       "      <td>4</td>\n",
       "      <td>0</td>\n",
       "      <td>0</td>\n",
       "    </tr>\n",
       "    <tr>\n",
       "      <th>6</th>\n",
       "      <td>FLAMENGO DO PIAUÍ</td>\n",
       "      <td>0</td>\n",
       "      <td>0</td>\n",
       "      <td>0</td>\n",
       "    </tr>\n",
       "    <tr>\n",
       "      <th>7</th>\n",
       "      <td>FORTALEZA</td>\n",
       "      <td>6</td>\n",
       "      <td>0</td>\n",
       "      <td>1</td>\n",
       "    </tr>\n",
       "    <tr>\n",
       "      <th>8</th>\n",
       "      <td>NÁUTICO</td>\n",
       "      <td>3</td>\n",
       "      <td>0</td>\n",
       "      <td>2</td>\n",
       "    </tr>\n",
       "    <tr>\n",
       "      <th>9</th>\n",
       "      <td>SAMPAIO CORREA</td>\n",
       "      <td>7</td>\n",
       "      <td>0</td>\n",
       "      <td>0</td>\n",
       "    </tr>\n",
       "    <tr>\n",
       "      <th>10</th>\n",
       "      <td>SANTA CRUZ</td>\n",
       "      <td>7</td>\n",
       "      <td>0</td>\n",
       "      <td>1</td>\n",
       "    </tr>\n",
       "    <tr>\n",
       "      <th>11</th>\n",
       "      <td>SPORT</td>\n",
       "      <td>5</td>\n",
       "      <td>1</td>\n",
       "      <td>6</td>\n",
       "    </tr>\n",
       "    <tr>\n",
       "      <th>12</th>\n",
       "      <td>TREZE PB</td>\n",
       "      <td>3</td>\n",
       "      <td>0</td>\n",
       "      <td>0</td>\n",
       "    </tr>\n",
       "    <tr>\n",
       "      <th>13</th>\n",
       "      <td>VITÓRIA</td>\n",
       "      <td>4</td>\n",
       "      <td>0</td>\n",
       "      <td>5</td>\n",
       "    </tr>\n",
       "  </tbody>\n",
       "</table>\n",
       "</div>"
      ],
      "text/plain": [
       "                TIMES  TÍTULOS (2010-2019)  P/LIBERTADORES (2009-2019)  \\\n",
       "0        ABC DE NATAL                    7                           0   \n",
       "1    AMÉRICA DE NATAL                    4                           0   \n",
       "2         BOTAFOGO PB                    7                           0   \n",
       "3               BAHIA                    6                           0   \n",
       "4               CEARÁ                    6                           0   \n",
       "5           CONFIANÇA                    4                           0   \n",
       "6   FLAMENGO DO PIAUÍ                    0                           0   \n",
       "7           FORTALEZA                    6                           0   \n",
       "8             NÁUTICO                    3                           0   \n",
       "9      SAMPAIO CORREA                    7                           0   \n",
       "10         SANTA CRUZ                    7                           0   \n",
       "11              SPORT                    5                           1   \n",
       "12           TREZE PB                    3                           0   \n",
       "13            VITÓRIA                    4                           0   \n",
       "\n",
       "    P/SÉRIE A (2010-2019)  \n",
       "0                       0  \n",
       "1                       0  \n",
       "2                       0  \n",
       "3                       7  \n",
       "4                       4  \n",
       "5                       0  \n",
       "6                       0  \n",
       "7                       1  \n",
       "8                       2  \n",
       "9                       0  \n",
       "10                      1  \n",
       "11                      6  \n",
       "12                      0  \n",
       "13                      5  "
      ]
     },
     "execution_count": 1,
     "metadata": {},
     "output_type": "execute_result"
    }
   ],
   "source": [
    "import pandas as pd\n",
    "times = pd.read_csv(\"dadosnordestinos.csv\")\n",
    "times"
   ]
  },
  {
   "cell_type": "markdown",
   "metadata": {},
   "source": [
    "## Pré-processamento \n",
    "**Não houve limpeza e transformação de dados pois na base de dados não havia informações falsas ou faltantes já que foram extraidas de fontes oficiais dos times**"
   ]
  },
  {
   "cell_type": "markdown",
   "metadata": {},
   "source": [
    "## Perguntas"
   ]
  },
  {
   "cell_type": "markdown",
   "metadata": {},
   "source": [
    " ### O projeto teve como objetivo responder 3 perguntas \n",
    "   \n",
    "   1. *Qual o clube nordestino com maior participação na série A do campeonato brasileiro nos últimos 9 anos?*"
   ]
  },
  {
   "cell_type": "code",
   "execution_count": 28,
   "metadata": {},
   "outputs": [
    {
     "data": {
      "text/html": [
       "<div>\n",
       "<style scoped>\n",
       "    .dataframe tbody tr th:only-of-type {\n",
       "        vertical-align: middle;\n",
       "    }\n",
       "\n",
       "    .dataframe tbody tr th {\n",
       "        vertical-align: top;\n",
       "    }\n",
       "\n",
       "    .dataframe thead th {\n",
       "        text-align: right;\n",
       "    }\n",
       "</style>\n",
       "<table border=\"1\" class=\"dataframe\">\n",
       "  <thead>\n",
       "    <tr style=\"text-align: right;\">\n",
       "      <th></th>\n",
       "      <th>TIMES</th>\n",
       "      <th>P/SÉRIE A (2010-2019)</th>\n",
       "    </tr>\n",
       "  </thead>\n",
       "  <tbody>\n",
       "    <tr>\n",
       "      <th>3</th>\n",
       "      <td>BAHIA</td>\n",
       "      <td>7</td>\n",
       "    </tr>\n",
       "    <tr>\n",
       "      <th>11</th>\n",
       "      <td>SPORT</td>\n",
       "      <td>6</td>\n",
       "    </tr>\n",
       "    <tr>\n",
       "      <th>13</th>\n",
       "      <td>VITÓRIA</td>\n",
       "      <td>5</td>\n",
       "    </tr>\n",
       "    <tr>\n",
       "      <th>4</th>\n",
       "      <td>CEARÁ</td>\n",
       "      <td>4</td>\n",
       "    </tr>\n",
       "    <tr>\n",
       "      <th>8</th>\n",
       "      <td>NÁUTICO</td>\n",
       "      <td>2</td>\n",
       "    </tr>\n",
       "    <tr>\n",
       "      <th>7</th>\n",
       "      <td>FORTALEZA</td>\n",
       "      <td>1</td>\n",
       "    </tr>\n",
       "    <tr>\n",
       "      <th>10</th>\n",
       "      <td>SANTA CRUZ</td>\n",
       "      <td>1</td>\n",
       "    </tr>\n",
       "    <tr>\n",
       "      <th>0</th>\n",
       "      <td>ABC DE NATAL</td>\n",
       "      <td>0</td>\n",
       "    </tr>\n",
       "    <tr>\n",
       "      <th>1</th>\n",
       "      <td>AMÉRICA DE NATAL</td>\n",
       "      <td>0</td>\n",
       "    </tr>\n",
       "    <tr>\n",
       "      <th>2</th>\n",
       "      <td>BOTAFOGO PB</td>\n",
       "      <td>0</td>\n",
       "    </tr>\n",
       "    <tr>\n",
       "      <th>5</th>\n",
       "      <td>CONFIANÇA</td>\n",
       "      <td>0</td>\n",
       "    </tr>\n",
       "    <tr>\n",
       "      <th>6</th>\n",
       "      <td>FLAMENGO DO PIAUÍ</td>\n",
       "      <td>0</td>\n",
       "    </tr>\n",
       "    <tr>\n",
       "      <th>9</th>\n",
       "      <td>SAMPAIO CORREA</td>\n",
       "      <td>0</td>\n",
       "    </tr>\n",
       "    <tr>\n",
       "      <th>12</th>\n",
       "      <td>TREZE PB</td>\n",
       "      <td>0</td>\n",
       "    </tr>\n",
       "  </tbody>\n",
       "</table>\n",
       "</div>"
      ],
      "text/plain": [
       "                TIMES  P/SÉRIE A (2010-2019)\n",
       "3               BAHIA                      7\n",
       "11              SPORT                      6\n",
       "13            VITÓRIA                      5\n",
       "4               CEARÁ                      4\n",
       "8             NÁUTICO                      2\n",
       "7           FORTALEZA                      1\n",
       "10         SANTA CRUZ                      1\n",
       "0        ABC DE NATAL                      0\n",
       "1    AMÉRICA DE NATAL                      0\n",
       "2         BOTAFOGO PB                      0\n",
       "5           CONFIANÇA                      0\n",
       "6   FLAMENGO DO PIAUÍ                      0\n",
       "9      SAMPAIO CORREA                      0\n",
       "12           TREZE PB                      0"
      ]
     },
     "execution_count": 28,
     "metadata": {},
     "output_type": "execute_result"
    }
   ],
   "source": [
    "times.sort_values(by=\"P/SÉRIE A (2010-2019)\", ascending = False)[[\"TIMES\",\"P/SÉRIE A (2010-2019)\"]]"
   ]
  },
  {
   "cell_type": "markdown",
   "metadata": {},
   "source": [
    "Fica claro que o time com mais participações na série a do campeonato brasileiro é o **BAHIA**, contudo poderiamos ter conseguido essa informação pela função   \n",
    "\n",
    "```times.loc[times[\"P/SÉRIE A (2010-2019)\"]>=max][[\"TIMES\",\"P/SÉRIE A (2010-2019\"]]```"
   ]
  },
  {
   "cell_type": "markdown",
   "metadata": {},
   "source": [
    "   2. *Em relação a títulos, qual o clube do nordestino mais vitorioso nos últimos 9 anos?(Levamos em consideração todos os títulos oficiais de campeonatos maiores ou menores)*\n",
    "   "
   ]
  },
  {
   "cell_type": "code",
   "execution_count": 31,
   "metadata": {},
   "outputs": [
    {
     "data": {
      "text/html": [
       "<div>\n",
       "<style scoped>\n",
       "    .dataframe tbody tr th:only-of-type {\n",
       "        vertical-align: middle;\n",
       "    }\n",
       "\n",
       "    .dataframe tbody tr th {\n",
       "        vertical-align: top;\n",
       "    }\n",
       "\n",
       "    .dataframe thead th {\n",
       "        text-align: right;\n",
       "    }\n",
       "</style>\n",
       "<table border=\"1\" class=\"dataframe\">\n",
       "  <thead>\n",
       "    <tr style=\"text-align: right;\">\n",
       "      <th></th>\n",
       "      <th>TIMES</th>\n",
       "      <th>TÍTULOS (2010-2019)</th>\n",
       "    </tr>\n",
       "  </thead>\n",
       "  <tbody>\n",
       "    <tr>\n",
       "      <th>0</th>\n",
       "      <td>ABC DE NATAL</td>\n",
       "      <td>7</td>\n",
       "    </tr>\n",
       "    <tr>\n",
       "      <th>2</th>\n",
       "      <td>BOTAFOGO PB</td>\n",
       "      <td>7</td>\n",
       "    </tr>\n",
       "    <tr>\n",
       "      <th>9</th>\n",
       "      <td>SAMPAIO CORREA</td>\n",
       "      <td>7</td>\n",
       "    </tr>\n",
       "    <tr>\n",
       "      <th>10</th>\n",
       "      <td>SANTA CRUZ</td>\n",
       "      <td>7</td>\n",
       "    </tr>\n",
       "  </tbody>\n",
       "</table>\n",
       "</div>"
      ],
      "text/plain": [
       "             TIMES  TÍTULOS (2010-2019)\n",
       "0     ABC DE NATAL                    7\n",
       "2      BOTAFOGO PB                    7\n",
       "9   SAMPAIO CORREA                    7\n",
       "10      SANTA CRUZ                    7"
      ]
     },
     "execution_count": 31,
     "metadata": {},
     "output_type": "execute_result"
    }
   ],
   "source": [
    "times.loc[times[\"TÍTULOS (2010-2019)\"]>=max][[\"TIMES\",\"TÍTULOS (2010-2019)\"]]"
   ]
  },
  {
   "cell_type": "markdown",
   "metadata": {},
   "source": [
    "Desta vez usamos a função .loc para exemplificar a mesma contudo achamos  um empate técnico entre titulos com os times \n",
    "- ABC DE NATAL\n",
    "- BOTAFOGO PB \n",
    "- SAMPAIO CORREA \n",
    "- SANTA CRUZ\n",
    "\n",
    "\n",
    "*Lembrando que não há distinção do tamanho do campeonato, por exemplo o campeonato brasileiro tem o mesmo peso do campeonato paraibano*"
   ]
  },
  {
   "cell_type": "markdown",
   "metadata": {},
   "source": [
    "3. Qual o clube nordestino com a maior quantidade de participações na Copa Libertadores nos últimos 10 anos?\n"
   ]
  },
  {
   "cell_type": "code",
   "execution_count": 33,
   "metadata": {},
   "outputs": [
    {
     "data": {
      "text/html": [
       "<div>\n",
       "<style scoped>\n",
       "    .dataframe tbody tr th:only-of-type {\n",
       "        vertical-align: middle;\n",
       "    }\n",
       "\n",
       "    .dataframe tbody tr th {\n",
       "        vertical-align: top;\n",
       "    }\n",
       "\n",
       "    .dataframe thead th {\n",
       "        text-align: right;\n",
       "    }\n",
       "</style>\n",
       "<table border=\"1\" class=\"dataframe\">\n",
       "  <thead>\n",
       "    <tr style=\"text-align: right;\">\n",
       "      <th></th>\n",
       "      <th>TIMES</th>\n",
       "      <th>P/LIBERTADORES (2009-2019)</th>\n",
       "    </tr>\n",
       "  </thead>\n",
       "  <tbody>\n",
       "    <tr>\n",
       "      <th>11</th>\n",
       "      <td>SPORT</td>\n",
       "      <td>1</td>\n",
       "    </tr>\n",
       "    <tr>\n",
       "      <th>0</th>\n",
       "      <td>ABC DE NATAL</td>\n",
       "      <td>0</td>\n",
       "    </tr>\n",
       "    <tr>\n",
       "      <th>1</th>\n",
       "      <td>AMÉRICA DE NATAL</td>\n",
       "      <td>0</td>\n",
       "    </tr>\n",
       "    <tr>\n",
       "      <th>2</th>\n",
       "      <td>BOTAFOGO PB</td>\n",
       "      <td>0</td>\n",
       "    </tr>\n",
       "    <tr>\n",
       "      <th>3</th>\n",
       "      <td>BAHIA</td>\n",
       "      <td>0</td>\n",
       "    </tr>\n",
       "    <tr>\n",
       "      <th>4</th>\n",
       "      <td>CEARÁ</td>\n",
       "      <td>0</td>\n",
       "    </tr>\n",
       "    <tr>\n",
       "      <th>5</th>\n",
       "      <td>CONFIANÇA</td>\n",
       "      <td>0</td>\n",
       "    </tr>\n",
       "    <tr>\n",
       "      <th>6</th>\n",
       "      <td>FLAMENGO DO PIAUÍ</td>\n",
       "      <td>0</td>\n",
       "    </tr>\n",
       "    <tr>\n",
       "      <th>7</th>\n",
       "      <td>FORTALEZA</td>\n",
       "      <td>0</td>\n",
       "    </tr>\n",
       "    <tr>\n",
       "      <th>8</th>\n",
       "      <td>NÁUTICO</td>\n",
       "      <td>0</td>\n",
       "    </tr>\n",
       "    <tr>\n",
       "      <th>9</th>\n",
       "      <td>SAMPAIO CORREA</td>\n",
       "      <td>0</td>\n",
       "    </tr>\n",
       "    <tr>\n",
       "      <th>10</th>\n",
       "      <td>SANTA CRUZ</td>\n",
       "      <td>0</td>\n",
       "    </tr>\n",
       "    <tr>\n",
       "      <th>12</th>\n",
       "      <td>TREZE PB</td>\n",
       "      <td>0</td>\n",
       "    </tr>\n",
       "    <tr>\n",
       "      <th>13</th>\n",
       "      <td>VITÓRIA</td>\n",
       "      <td>0</td>\n",
       "    </tr>\n",
       "  </tbody>\n",
       "</table>\n",
       "</div>"
      ],
      "text/plain": [
       "                TIMES  P/LIBERTADORES (2009-2019)\n",
       "11              SPORT                           1\n",
       "0        ABC DE NATAL                           0\n",
       "1    AMÉRICA DE NATAL                           0\n",
       "2         BOTAFOGO PB                           0\n",
       "3               BAHIA                           0\n",
       "4               CEARÁ                           0\n",
       "5           CONFIANÇA                           0\n",
       "6   FLAMENGO DO PIAUÍ                           0\n",
       "7           FORTALEZA                           0\n",
       "8             NÁUTICO                           0\n",
       "9      SAMPAIO CORREA                           0\n",
       "10         SANTA CRUZ                           0\n",
       "12           TREZE PB                           0\n",
       "13            VITÓRIA                           0"
      ]
     },
     "execution_count": 33,
     "metadata": {},
     "output_type": "execute_result"
    }
   ],
   "source": [
    "times.sort_values(by=\"P/LIBERTADORES (2009-2019)\", ascending = False)[[\"TIMES\",\"P/LIBERTADORES (2009-2019)\"]]"
   ]
  },
  {
   "cell_type": "markdown",
   "metadata": {},
   "source": [
    "Sendo assim fica evidente que o time nordestino com mais participações na libertadores foi o \n",
    "- Sport \n",
    "com uma(1) participação"
   ]
  },
  {
   "cell_type": "markdown",
   "metadata": {},
   "source": [
    "## Pergunta extra:\n",
    "Como não usamos até agora regressão linear decidimos fazer uma pergunta extra\n",
    "- Usando nosso dataset e regressõa linear quantos titulos normalmente um time com 0 participações na série A terá?"
   ]
  },
  {
   "cell_type": "markdown",
   "metadata": {},
   "source": [
    "Começamos fazendo um gráfico de dispersão para ilustra o quão distante um time pode estar do outro"
   ]
  },
  {
   "cell_type": "code",
   "execution_count": 47,
   "metadata": {},
   "outputs": [
    {
     "data": {
      "text/plain": [
       "<matplotlib.axes._subplots.AxesSubplot at 0x64c5478>"
      ]
     },
     "execution_count": 47,
     "metadata": {},
     "output_type": "execute_result"
    },
    {
     "data": {
      "image/png": "[encoded data removed]",
      "text/plain": [
       "<Figure size 432x288 with 1 Axes>"
      ]
     },
     "metadata": {
      "needs_background": "light"
     },
     "output_type": "display_data"
    }
   ],
   "source": [
    "times.plot.scatter(x= \"P/SÉRIE A (2010-2019)\",y = \"TÍTULOS (2010-2019)\")"
   ]
  },
  {
   "cell_type": "markdown",
   "metadata": {},
   "source": [
    "Agora iremos usar a regressão para tentar adivinhar quantos títulos um time com zero participaçoes na série A normalmente teria"
   ]
  },
  {
   "cell_type": "code",
   "execution_count": 49,
   "metadata": {},
   "outputs": [
    {
     "data": {
      "text/plain": [
       "4.776450511945392"
      ]
     },
     "execution_count": 49,
     "metadata": {},
     "output_type": "execute_result"
    }
   ],
   "source": [
    "result = linregress(times[\"P/SÉRIE A (2010-2019)\"], times[\"TÍTULOS (2010-2019)\"])\n",
    "a = result.slope\n",
    "b = result.intercept\n",
    "def predict(p_serie_a):\n",
    "    return p_serie_a*a+b\n",
    "predict(0)"
   ]
  },
  {
   "cell_type": "markdown",
   "metadata": {},
   "source": [
    "Sendo assim um time nordestino incluido na base de dados sem nenhuma participação na série A entre 2010 e 2009 teria em média um pouco menos de cinco titulos"
   ]
  },
  {
   "cell_type": "markdown",
   "metadata": {},
   "source": [
    "## Conclusão:\n",
    "\n",
    "Chegamos a conclusão que o uso das técnicas de analise de dados pelos cientistas da área já são valiosos nos dias atuais e com certeza só tende a continuar cada vez mais sendo valorizado. Entramos com várias dúvidas sobre os clubes analisados e conseguimos sair com todas as respostas que foram propostas a serem respondidas, com uma análise de dados simples podem-se resolver inúmeros tipos de problemas e questionamentos. Foram utilizados dados de vários clubes do nordeste e foram também respondidos alguns questionamentos sobre eles, o resultado e a experiência com a realização desse projeto foram excelentes, descobrimos uma nova ferramenta de trabalho chamada Jupyter Notebook, ferramneta essa que é específica para o uso dos ciêntistas de dados.\n",
    "Concluímos novamente que com a análise de dados sendo realizada de forma correta e com o conhecimento de todas técnicas a busca por resultados cada vez mais precisos para serão ainda mais eficazes do que já são nos dias atuais, essa área acaba sendo a opção  mais promissora da tecnologia em um futuro próximo, tendo cada vez mais requerimento por empresas e afins."
   ]
  }
 ],
 "metadata": {
  "kernelspec": {
   "display_name": "Python 3",
   "language": "python",
   "name": "python3"
  },
  "language_info": {
   "codemirror_mode": {
    "name": "ipython",
    "version": 3
   },
   "file_extension": ".py",
   "mimetype": "text/x-python",
   "name": "python",
   "nbconvert_exporter": "python",
   "pygments_lexer": "ipython3",
   "version": "3.6.11"
  }
 },
 "nbformat": 4,
 "nbformat_minor": 4
}
